{
  "nbformat": 4,
  "nbformat_minor": 0,
  "metadata": {
    "colab": {
      "provenance": []
    },
    "kernelspec": {
      "name": "python3",
      "display_name": "Python 3"
    },
    "language_info": {
      "name": "python"
    }
  },
  "cells": [
    {
      "cell_type": "markdown",
      "source": [
        "# Creando arrays \n",
        "Una forma de crear arrays en Numpy es dandole como entrada una lista predefinida de Python, sin embargo esta libreria es mucho más versatil y nos permite crear arreglos a partir de un rango dado, haciendo nuestro trabajo más eficiente y sencillo."
      ],
      "metadata": {
        "id": "Sn2NYshHBS8z"
      }
    },
    {
      "cell_type": "code",
      "execution_count": 1,
      "metadata": {
        "id": "1SpgL9ZQBRtP"
      },
      "outputs": [],
      "source": [
        "import numpy as np"
      ]
    },
    {
      "cell_type": "markdown",
      "source": [
        "En Python podemos crear una lista a partir de un iterable con un rango dado.\n",
        "<br>\n",
        "En el siguiente ejemplo le decimos a la función `range` que nos genere un iterable de 10 elementos partiendo desde 0."
      ],
      "metadata": {
        "id": "kWAkNK2KBad7"
      }
    },
    {
      "cell_type": "code",
      "source": [
        "list(range(0, 10))"
      ],
      "metadata": {
        "colab": {
          "base_uri": "https://localhost:8080/"
        },
        "id": "tlZgKyNQCXk2",
        "outputId": "25436e5b-02ef-4416-eca0-91e09098266e"
      },
      "execution_count": 6,
      "outputs": [
        {
          "output_type": "execute_result",
          "data": {
            "text/plain": [
              "[0, 1, 2, 3, 4, 5, 6, 7, 8, 9]"
            ]
          },
          "metadata": {},
          "execution_count": 6
        }
      ]
    },
    {
      "cell_type": "markdown",
      "source": [
        "## arange"
      ],
      "metadata": {
        "id": "Ys0k6SH6EDMy"
      }
    },
    {
      "cell_type": "markdown",
      "source": [
        "Numpy nos brinda una función similar llamada `arange` que también recibe como parametro el inicio y el total de elementos. A diferencia de `range` en Python es que con Numpy no necesitamos convertir a una lista ó arreglo el resultado de la función `arange`."
      ],
      "metadata": {
        "id": "Pj8gGJS-DGvz"
      }
    },
    {
      "cell_type": "code",
      "source": [
        "np.arange(0, 10)"
      ],
      "metadata": {
        "colab": {
          "base_uri": "https://localhost:8080/"
        },
        "id": "wqfJPuNWDEX8",
        "outputId": "142d0f6e-6566-4529-b033-c97d9c8928de"
      },
      "execution_count": 5,
      "outputs": [
        {
          "output_type": "execute_result",
          "data": {
            "text/plain": [
              "array([0, 1, 2, 3, 4, 5, 6, 7, 8, 9])"
            ]
          },
          "metadata": {},
          "execution_count": 5
        }
      ]
    },
    {
      "cell_type": "markdown",
      "source": [
        "Opcionalmente esta función recibe un tercer argumento llamado \"step\" o salto, el cual indica cuantos saltos dará entre elementos.\n",
        "<br>\n",
        "**Argumentos:**\n",
        "- `start`: Valor donde va a iniciar el rango.\n",
        "- `stop`: Punto donde terminará el rango.\n",
        "- `step`: Saltos (pasos) que dará entre elementos.\n",
        "\n",
        "\n"
      ],
      "metadata": {
        "id": "AtdtOzpIFLMP"
      }
    },
    {
      "cell_type": "code",
      "source": [
        "np.arange(0, 20, 2)"
      ],
      "metadata": {
        "colab": {
          "base_uri": "https://localhost:8080/"
        },
        "id": "dkSpYuVyDVA5",
        "outputId": "dc4345fe-b8b8-4af8-8a75-a8acd7dbccbc"
      },
      "execution_count": 7,
      "outputs": [
        {
          "output_type": "execute_result",
          "data": {
            "text/plain": [
              "array([ 0,  2,  4,  6,  8, 10, 12, 14, 16, 18])"
            ]
          },
          "metadata": {},
          "execution_count": 7
        }
      ]
    },
    {
      "cell_type": "markdown",
      "source": [
        "## zeros"
      ],
      "metadata": {
        "id": "Fq-_VISXHRWN"
      }
    },
    {
      "cell_type": "markdown",
      "source": [
        "Esta funcionalidad nos da la facilidad de crear arrays de **n** dimensiones donde todos sus valores son `0`.\n",
        "<br>\n",
        "Crear arreglos de `0`'s es sumamente útil cuando queremos preestablecer un esquema que utilizaremos más delante."
      ],
      "metadata": {
        "id": "C7OtOKlZHWfQ"
      }
    },
    {
      "cell_type": "code",
      "source": [
        "zero_array = np.zeros(5)\n",
        "zero_array"
      ],
      "metadata": {
        "colab": {
          "base_uri": "https://localhost:8080/"
        },
        "id": "eJVyUd5WHKBE",
        "outputId": "a79ae351-1853-4bc7-f74d-0ab2777ba58b"
      },
      "execution_count": 14,
      "outputs": [
        {
          "output_type": "execute_result",
          "data": {
            "text/plain": [
              "array([0., 0., 0., 0., 0.])"
            ]
          },
          "metadata": {},
          "execution_count": 14
        }
      ]
    },
    {
      "cell_type": "markdown",
      "source": [
        "Por default Numpy rellena de `0` el array pero en `0` de tipo `float64`, por esa razon aparece con un punto decimal a la derecha."
      ],
      "metadata": {
        "id": "k1zx5ZHiH23t"
      }
    },
    {
      "cell_type": "code",
      "source": [
        "zero_array.dtype"
      ],
      "metadata": {
        "colab": {
          "base_uri": "https://localhost:8080/"
        },
        "id": "z3hjgR74H1s3",
        "outputId": "5d4046de-36df-4fe3-eaa0-70acc6f5c6ca"
      },
      "execution_count": 13,
      "outputs": [
        {
          "output_type": "execute_result",
          "data": {
            "text/plain": [
              "dtype('float64')"
            ]
          },
          "metadata": {},
          "execution_count": 13
        }
      ]
    },
    {
      "cell_type": "markdown",
      "source": [
        "La función `zeros` recibe obligatoriamente el argumento **shape** que indica la forma que va a tener el array (vector, matriz ó tensor).\n",
        "<br>\n",
        "En el ejemplo anterior se le envía un `5` y Numpy lo interpreta como un vector de tamaño 5 (cinco elementos).\n",
        "<br> \n",
        "Pero si lo que necesitamos es crear una matriz de `0`'s, entonces le enviaremos una tupla con dos elementos, donde `tupla = (numero_filas, numero_columnas)`.\n"
      ],
      "metadata": {
        "id": "jyNUS454IYu-"
      }
    },
    {
      "cell_type": "code",
      "source": [
        "np.zeros((3,5)) # Matriz de 3 x 5 con valores en 0 de tipo floar64"
      ],
      "metadata": {
        "colab": {
          "base_uri": "https://localhost:8080/"
        },
        "id": "ZyJUEoV4IF7c",
        "outputId": "72817e36-d692-412a-cb91-ecf2fa72656c"
      },
      "execution_count": 16,
      "outputs": [
        {
          "output_type": "execute_result",
          "data": {
            "text/plain": [
              "array([[0., 0., 0., 0., 0.],\n",
              "       [0., 0., 0., 0., 0.],\n",
              "       [0., 0., 0., 0., 0.]])"
            ]
          },
          "metadata": {},
          "execution_count": 16
        }
      ]
    },
    {
      "cell_type": "markdown",
      "source": [
        "Para crear un tensor tendríamos que aumentar los elementos de la tupla segun las dimensiones que necesitemos."
      ],
      "metadata": {
        "id": "FQFrMhoHJ0YK"
      }
    },
    {
      "cell_type": "code",
      "source": [
        "np.zeros((2,3,5))"
      ],
      "metadata": {
        "colab": {
          "base_uri": "https://localhost:8080/"
        },
        "id": "usuzQoAIJllh",
        "outputId": "c58cae53-18af-4b78-fc28-0bec6544e242"
      },
      "execution_count": 17,
      "outputs": [
        {
          "output_type": "execute_result",
          "data": {
            "text/plain": [
              "array([[[0., 0., 0., 0., 0.],\n",
              "        [0., 0., 0., 0., 0.],\n",
              "        [0., 0., 0., 0., 0.]],\n",
              "\n",
              "       [[0., 0., 0., 0., 0.],\n",
              "        [0., 0., 0., 0., 0.],\n",
              "        [0., 0., 0., 0., 0.]]])"
            ]
          },
          "metadata": {},
          "execution_count": 17
        }
      ]
    },
    {
      "cell_type": "code",
      "source": [
        "np.zeros((2,3,5,2))"
      ],
      "metadata": {
        "colab": {
          "base_uri": "https://localhost:8080/"
        },
        "id": "YQePLEHdJu5F",
        "outputId": "6273165f-5a1a-44c8-e62b-dcb899f6aa31"
      },
      "execution_count": 19,
      "outputs": [
        {
          "output_type": "execute_result",
          "data": {
            "text/plain": [
              "array([[[[0., 0.],\n",
              "         [0., 0.],\n",
              "         [0., 0.],\n",
              "         [0., 0.],\n",
              "         [0., 0.]],\n",
              "\n",
              "        [[0., 0.],\n",
              "         [0., 0.],\n",
              "         [0., 0.],\n",
              "         [0., 0.],\n",
              "         [0., 0.]],\n",
              "\n",
              "        [[0., 0.],\n",
              "         [0., 0.],\n",
              "         [0., 0.],\n",
              "         [0., 0.],\n",
              "         [0., 0.]]],\n",
              "\n",
              "\n",
              "       [[[0., 0.],\n",
              "         [0., 0.],\n",
              "         [0., 0.],\n",
              "         [0., 0.],\n",
              "         [0., 0.]],\n",
              "\n",
              "        [[0., 0.],\n",
              "         [0., 0.],\n",
              "         [0., 0.],\n",
              "         [0., 0.],\n",
              "         [0., 0.]],\n",
              "\n",
              "        [[0., 0.],\n",
              "         [0., 0.],\n",
              "         [0., 0.],\n",
              "         [0., 0.],\n",
              "         [0., 0.]]]])"
            ]
          },
          "metadata": {},
          "execution_count": 19
        }
      ]
    },
    {
      "cell_type": "markdown",
      "source": [
        "## ones"
      ],
      "metadata": {
        "id": "_37ubLM1KSs_"
      }
    },
    {
      "cell_type": "markdown",
      "source": [
        "Es exactamente lo mismo que la función `zeros` con la diferencia que el array generado contiene solo elementos con valor `1` de tipo float64"
      ],
      "metadata": {
        "id": "iWYQOiSSKWvo"
      }
    },
    {
      "cell_type": "code",
      "source": [
        "np.ones(5) # Array de tipo vector con 5 elementos"
      ],
      "metadata": {
        "colab": {
          "base_uri": "https://localhost:8080/"
        },
        "id": "EtChAYgsKKmc",
        "outputId": "0e3e69a7-a675-4c97-c89a-502cff5d522a"
      },
      "execution_count": 20,
      "outputs": [
        {
          "output_type": "execute_result",
          "data": {
            "text/plain": [
              "array([1., 1., 1., 1., 1.])"
            ]
          },
          "metadata": {},
          "execution_count": 20
        }
      ]
    },
    {
      "cell_type": "code",
      "source": [
        "np.ones((3, 5)) # Array de tipo matriz con 3 filas y 5 columnas"
      ],
      "metadata": {
        "colab": {
          "base_uri": "https://localhost:8080/"
        },
        "id": "qPhPuoGIKvJR",
        "outputId": "667334b6-964f-49b5-96f3-bfcbe2785e12"
      },
      "execution_count": 22,
      "outputs": [
        {
          "output_type": "execute_result",
          "data": {
            "text/plain": [
              "array([[1., 1., 1., 1., 1.],\n",
              "       [1., 1., 1., 1., 1.],\n",
              "       [1., 1., 1., 1., 1.]])"
            ]
          },
          "metadata": {},
          "execution_count": 22
        }
      ]
    },
    {
      "cell_type": "code",
      "source": [
        "np.ones((2,3,5)) # Array de tipo tensor con 3 dimensiones"
      ],
      "metadata": {
        "colab": {
          "base_uri": "https://localhost:8080/"
        },
        "id": "WmnjtmzMKxvc",
        "outputId": "32c071d4-a0ec-4912-868c-51f137da5384"
      },
      "execution_count": 23,
      "outputs": [
        {
          "output_type": "execute_result",
          "data": {
            "text/plain": [
              "array([[[1., 1., 1., 1., 1.],\n",
              "        [1., 1., 1., 1., 1.],\n",
              "        [1., 1., 1., 1., 1.]],\n",
              "\n",
              "       [[1., 1., 1., 1., 1.],\n",
              "        [1., 1., 1., 1., 1.],\n",
              "        [1., 1., 1., 1., 1.]]])"
            ]
          },
          "metadata": {},
          "execution_count": 23
        }
      ]
    },
    {
      "cell_type": "code",
      "source": [
        "np.ones((2,3,5,2)) # Array de tipo tensor con 4 dimensiones"
      ],
      "metadata": {
        "colab": {
          "base_uri": "https://localhost:8080/"
        },
        "id": "9fuIgHgwK_ds",
        "outputId": "55a383bf-a0cd-4626-9c07-062a86119a94"
      },
      "execution_count": 24,
      "outputs": [
        {
          "output_type": "execute_result",
          "data": {
            "text/plain": [
              "array([[[[1., 1.],\n",
              "         [1., 1.],\n",
              "         [1., 1.],\n",
              "         [1., 1.],\n",
              "         [1., 1.]],\n",
              "\n",
              "        [[1., 1.],\n",
              "         [1., 1.],\n",
              "         [1., 1.],\n",
              "         [1., 1.],\n",
              "         [1., 1.]],\n",
              "\n",
              "        [[1., 1.],\n",
              "         [1., 1.],\n",
              "         [1., 1.],\n",
              "         [1., 1.],\n",
              "         [1., 1.]]],\n",
              "\n",
              "\n",
              "       [[[1., 1.],\n",
              "         [1., 1.],\n",
              "         [1., 1.],\n",
              "         [1., 1.],\n",
              "         [1., 1.]],\n",
              "\n",
              "        [[1., 1.],\n",
              "         [1., 1.],\n",
              "         [1., 1.],\n",
              "         [1., 1.],\n",
              "         [1., 1.]],\n",
              "\n",
              "        [[1., 1.],\n",
              "         [1., 1.],\n",
              "         [1., 1.],\n",
              "         [1., 1.],\n",
              "         [1., 1.]]]])"
            ]
          },
          "metadata": {},
          "execution_count": 24
        }
      ]
    },
    {
      "cell_type": "markdown",
      "source": [
        "## linspace"
      ],
      "metadata": {
        "id": "Nfks0sJwLNFW"
      }
    },
    {
      "cell_type": "markdown",
      "source": [
        "Esta función genera un array n elementos con valores que se encuentren dentro de un determinado rango de valores que se envían como parametros. `linspace` recibe 3 parametros principales:\n",
        "- `start`: Valor de inicio del rango\n",
        "- `stop`: Valor final del rango\n",
        "- `num`: Cantidad de elementos que contendrá el array, por default Numpy asigna 50 elementos si el argumento `num` no se envía"
      ],
      "metadata": {
        "id": "fHYj0HB3LPpT"
      }
    },
    {
      "cell_type": "code",
      "source": [
        "lin_array = np.linspace(0, 10)\n",
        "lin_array"
      ],
      "metadata": {
        "colab": {
          "base_uri": "https://localhost:8080/"
        },
        "id": "dNamP7ZrLG39",
        "outputId": "ea001d06-b47d-455b-cdf2-8fe4ccef2618"
      },
      "execution_count": 33,
      "outputs": [
        {
          "output_type": "execute_result",
          "data": {
            "text/plain": [
              "array([ 0.        ,  0.20408163,  0.40816327,  0.6122449 ,  0.81632653,\n",
              "        1.02040816,  1.2244898 ,  1.42857143,  1.63265306,  1.83673469,\n",
              "        2.04081633,  2.24489796,  2.44897959,  2.65306122,  2.85714286,\n",
              "        3.06122449,  3.26530612,  3.46938776,  3.67346939,  3.87755102,\n",
              "        4.08163265,  4.28571429,  4.48979592,  4.69387755,  4.89795918,\n",
              "        5.10204082,  5.30612245,  5.51020408,  5.71428571,  5.91836735,\n",
              "        6.12244898,  6.32653061,  6.53061224,  6.73469388,  6.93877551,\n",
              "        7.14285714,  7.34693878,  7.55102041,  7.75510204,  7.95918367,\n",
              "        8.16326531,  8.36734694,  8.57142857,  8.7755102 ,  8.97959184,\n",
              "        9.18367347,  9.3877551 ,  9.59183673,  9.79591837, 10.        ])"
            ]
          },
          "metadata": {},
          "execution_count": 33
        }
      ]
    },
    {
      "cell_type": "code",
      "source": [
        "len(lin_array)"
      ],
      "metadata": {
        "colab": {
          "base_uri": "https://localhost:8080/"
        },
        "id": "AfMog-erMgzB",
        "outputId": "fe4852ef-1140-4a6e-bc41-b803ba85b424"
      },
      "execution_count": 34,
      "outputs": [
        {
          "output_type": "execute_result",
          "data": {
            "text/plain": [
              "50"
            ]
          },
          "metadata": {},
          "execution_count": 34
        }
      ]
    },
    {
      "cell_type": "code",
      "source": [
        "lin_array_2 = np.linspace(0, 20, 100)\n",
        "lin_array_2"
      ],
      "metadata": {
        "colab": {
          "base_uri": "https://localhost:8080/"
        },
        "id": "jPW4Wh1MMp1s",
        "outputId": "065d75ca-b30a-44a0-b544-043933b7c70e"
      },
      "execution_count": 36,
      "outputs": [
        {
          "output_type": "execute_result",
          "data": {
            "text/plain": [
              "array([ 0.        ,  0.2020202 ,  0.4040404 ,  0.60606061,  0.80808081,\n",
              "        1.01010101,  1.21212121,  1.41414141,  1.61616162,  1.81818182,\n",
              "        2.02020202,  2.22222222,  2.42424242,  2.62626263,  2.82828283,\n",
              "        3.03030303,  3.23232323,  3.43434343,  3.63636364,  3.83838384,\n",
              "        4.04040404,  4.24242424,  4.44444444,  4.64646465,  4.84848485,\n",
              "        5.05050505,  5.25252525,  5.45454545,  5.65656566,  5.85858586,\n",
              "        6.06060606,  6.26262626,  6.46464646,  6.66666667,  6.86868687,\n",
              "        7.07070707,  7.27272727,  7.47474747,  7.67676768,  7.87878788,\n",
              "        8.08080808,  8.28282828,  8.48484848,  8.68686869,  8.88888889,\n",
              "        9.09090909,  9.29292929,  9.49494949,  9.6969697 ,  9.8989899 ,\n",
              "       10.1010101 , 10.3030303 , 10.50505051, 10.70707071, 10.90909091,\n",
              "       11.11111111, 11.31313131, 11.51515152, 11.71717172, 11.91919192,\n",
              "       12.12121212, 12.32323232, 12.52525253, 12.72727273, 12.92929293,\n",
              "       13.13131313, 13.33333333, 13.53535354, 13.73737374, 13.93939394,\n",
              "       14.14141414, 14.34343434, 14.54545455, 14.74747475, 14.94949495,\n",
              "       15.15151515, 15.35353535, 15.55555556, 15.75757576, 15.95959596,\n",
              "       16.16161616, 16.36363636, 16.56565657, 16.76767677, 16.96969697,\n",
              "       17.17171717, 17.37373737, 17.57575758, 17.77777778, 17.97979798,\n",
              "       18.18181818, 18.38383838, 18.58585859, 18.78787879, 18.98989899,\n",
              "       19.19191919, 19.39393939, 19.5959596 , 19.7979798 , 20.        ])"
            ]
          },
          "metadata": {},
          "execution_count": 36
        }
      ]
    },
    {
      "cell_type": "code",
      "source": [
        "len(lin_array_2)"
      ],
      "metadata": {
        "colab": {
          "base_uri": "https://localhost:8080/"
        },
        "id": "3M5v8ucOOifO",
        "outputId": "9c8b73d4-b744-4cc6-c929-d134cba8045c"
      },
      "execution_count": 37,
      "outputs": [
        {
          "output_type": "execute_result",
          "data": {
            "text/plain": [
              "100"
            ]
          },
          "metadata": {},
          "execution_count": 37
        }
      ]
    },
    {
      "cell_type": "markdown",
      "source": [
        "## random"
      ],
      "metadata": {
        "id": "XiC5wveEOtLo"
      }
    },
    {
      "cell_type": "markdown",
      "source": [
        "Cuando queremos trabajar con número aleatorios en Python necesitamos importar la libreria `random`, pero Numpy ya tiene integrada esa funcionalidad."
      ],
      "metadata": {
        "id": "0FfboH7sOvCW"
      }
    },
    {
      "cell_type": "markdown",
      "source": [
        "### rand\n",
        "Genera un número aleatorio entre 0 y 1"
      ],
      "metadata": {
        "id": "uS5KCRLPPNJA"
      }
    },
    {
      "cell_type": "code",
      "source": [
        "np.random.rand()"
      ],
      "metadata": {
        "colab": {
          "base_uri": "https://localhost:8080/"
        },
        "id": "GSrFdm-TOnNI",
        "outputId": "f3a9dc3f-3939-46de-b9f2-6144d375689c"
      },
      "execution_count": 38,
      "outputs": [
        {
          "output_type": "execute_result",
          "data": {
            "text/plain": [
              "0.3471794017820685"
            ]
          },
          "metadata": {},
          "execution_count": 38
        }
      ]
    },
    {
      "cell_type": "markdown",
      "source": [
        "Por default no recibe ningun parametro y retora un solo valor aleatorio. Sin embargo si le mandamos un valor numérico como parametro, va a generar un array de números aleatorios del tamaño al que corresponde el valor envíado."
      ],
      "metadata": {
        "id": "jTUZ_6pzPeqq"
      }
    },
    {
      "cell_type": "code",
      "source": [
        "np.random.rand(5) # Genera un array de 5 números aleatorios"
      ],
      "metadata": {
        "colab": {
          "base_uri": "https://localhost:8080/"
        },
        "id": "x9JEtigUPVLK",
        "outputId": "86c9051d-12eb-47c8-f645-b8c06cfd2284"
      },
      "execution_count": 40,
      "outputs": [
        {
          "output_type": "execute_result",
          "data": {
            "text/plain": [
              "array([0.05281145, 0.84894306, 0.32674687, 0.55309424, 0.6793612 ])"
            ]
          },
          "metadata": {},
          "execution_count": 40
        }
      ]
    },
    {
      "cell_type": "markdown",
      "source": [
        "Si a la función `rand` le mandamos 2 valores numéricos como argumentos va a crear una matriz."
      ],
      "metadata": {
        "id": "BN6hOg2BQBrh"
      }
    },
    {
      "cell_type": "code",
      "source": [
        "np.random.rand(5,5) # Genera una matriz de 5 filas y 5 columnas con números aleatorios entre 0 y 1"
      ],
      "metadata": {
        "colab": {
          "base_uri": "https://localhost:8080/"
        },
        "id": "0uB0QH4jPlmu",
        "outputId": "dc0f4838-edef-4a09-c22e-24578e0fdbc6"
      },
      "execution_count": 47,
      "outputs": [
        {
          "output_type": "execute_result",
          "data": {
            "text/plain": [
              "array([[0.02606652, 0.47799499, 0.37397633, 0.68210667, 0.70367882],\n",
              "       [0.73998958, 0.80998792, 0.10287799, 0.83793779, 0.47231464],\n",
              "       [0.15572412, 0.88743281, 0.58704437, 0.03938166, 0.81688379],\n",
              "       [0.33557404, 0.34152488, 0.78962038, 0.29472048, 0.01408456],\n",
              "       [0.75429852, 0.56550726, 0.31689306, 0.98274288, 0.64588462]])"
            ]
          },
          "metadata": {},
          "execution_count": 47
        }
      ]
    },
    {
      "cell_type": "markdown",
      "source": [
        "A `rand` puere recibir n argumentos numéricos, la cantidad de ellos definira el número de dimensiones"
      ],
      "metadata": {
        "id": "nl6Hf5cOQ479"
      }
    },
    {
      "cell_type": "code",
      "source": [
        "rand_n_array = np.random.rand(2, 5, 5)\n",
        "rand_n_array"
      ],
      "metadata": {
        "colab": {
          "base_uri": "https://localhost:8080/"
        },
        "id": "vmA6KNmdQFCI",
        "outputId": "8571da32-d638-4651-c630-caedd7630306"
      },
      "execution_count": 56,
      "outputs": [
        {
          "output_type": "execute_result",
          "data": {
            "text/plain": [
              "array([[[0.46273884, 0.40173995, 0.60728838, 0.2757073 , 0.91122417],\n",
              "        [0.02247842, 0.19225305, 0.27839918, 0.84734014, 0.66792304],\n",
              "        [0.67204471, 0.06145142, 0.8911092 , 0.62574665, 0.25075558],\n",
              "        [0.29322371, 0.93362759, 0.22025249, 0.96493128, 0.17376339],\n",
              "        [0.16784011, 0.52536256, 0.23799095, 0.90122539, 0.61743411]],\n",
              "\n",
              "       [[0.53659634, 0.9664346 , 0.11667961, 0.24189865, 0.30439509],\n",
              "        [0.60346425, 0.56275992, 0.61108899, 0.56963321, 0.51999633],\n",
              "        [0.22802563, 0.39898052, 0.86834493, 0.7856789 , 0.91430006],\n",
              "        [0.30133759, 0.77523123, 0.97352356, 0.32663162, 0.06284141],\n",
              "        [0.77722935, 0.200282  , 0.011483  , 0.04005667, 0.50772116]]])"
            ]
          },
          "metadata": {},
          "execution_count": 56
        }
      ]
    },
    {
      "cell_type": "code",
      "source": [
        "rand_n_array.ndim"
      ],
      "metadata": {
        "colab": {
          "base_uri": "https://localhost:8080/"
        },
        "id": "QvFcxEHAQ-aD",
        "outputId": "734a1c95-1adb-488c-fb74-a314902f0e4a"
      },
      "execution_count": 55,
      "outputs": [
        {
          "output_type": "execute_result",
          "data": {
            "text/plain": [
              "3"
            ]
          },
          "metadata": {},
          "execution_count": 55
        }
      ]
    },
    {
      "cell_type": "code",
      "source": [
        "rand_n_array2 = np.random.rand(2, 3, 1, 2)\n",
        "rand_n_array2"
      ],
      "metadata": {
        "colab": {
          "base_uri": "https://localhost:8080/"
        },
        "id": "TEj5C33VRTa2",
        "outputId": "ed7a1ccb-e022-4daf-eab7-6a7825ebc3c1"
      },
      "execution_count": 60,
      "outputs": [
        {
          "output_type": "execute_result",
          "data": {
            "text/plain": [
              "array([[[[0.22585546, 0.34527524]],\n",
              "\n",
              "        [[0.84489741, 0.45590146]],\n",
              "\n",
              "        [[0.44242857, 0.3465361 ]]],\n",
              "\n",
              "\n",
              "       [[[0.4706563 , 0.99064032]],\n",
              "\n",
              "        [[0.2979513 , 0.26805804]],\n",
              "\n",
              "        [[0.25327959, 0.11921986]]]])"
            ]
          },
          "metadata": {},
          "execution_count": 60
        }
      ]
    },
    {
      "cell_type": "code",
      "source": [
        "rand_n_array2.ndim"
      ],
      "metadata": {
        "colab": {
          "base_uri": "https://localhost:8080/"
        },
        "id": "bYyonn8HRepI",
        "outputId": "a6a4d05e-33fe-4b0f-88ef-88501e4d6693"
      },
      "execution_count": 59,
      "outputs": [
        {
          "output_type": "execute_result",
          "data": {
            "text/plain": [
              "4"
            ]
          },
          "metadata": {},
          "execution_count": 59
        }
      ]
    },
    {
      "cell_type": "markdown",
      "source": [
        "### randint\n",
        "Genera un número aleatorio entero que este dentro de un rango dado. A diferencia de `rand` esta función requiere que se le manden obligatoriamente los primeros dos parametros\n",
        "- `low`: Valor aleatorio mínimo.\n",
        "- `high`: Valor aleatorio máximo.\n"
      ],
      "metadata": {
        "id": "c6l2lNNWRn5K"
      }
    },
    {
      "cell_type": "code",
      "source": [
        "np.random.randint(1, 10)"
      ],
      "metadata": {
        "colab": {
          "base_uri": "https://localhost:8080/"
        },
        "id": "Dy1ypt11RiTo",
        "outputId": "60d500e7-1f87-4ad7-e33d-4efbceecc2c0"
      },
      "execution_count": 70,
      "outputs": [
        {
          "output_type": "execute_result",
          "data": {
            "text/plain": [
              "8"
            ]
          },
          "metadata": {},
          "execution_count": 70
        }
      ]
    },
    {
      "cell_type": "markdown",
      "source": [
        "Opcionalmente recibe un tercer argumento el cual define la forma (`shape`)\n",
        "- `drawn`: Define la forma del array, si se envia un valor `int` entonces regresará un vector de tamnaño **n** (valor enviado). Si se le envía una tupla con **n** \"elementos\" se creará un array de dimensión **n**"
      ],
      "metadata": {
        "id": "IEkDvlduS7ln"
      }
    },
    {
      "cell_type": "code",
      "source": [
        "np.random.randint(1, 10, 8) # Genera un vector de 8 elementos con valores entre 1 y 10 "
      ],
      "metadata": {
        "colab": {
          "base_uri": "https://localhost:8080/"
        },
        "id": "rM8wzPYZTDlD",
        "outputId": "704ac2fb-ad47-4095-ad9d-25f4ee44a839"
      },
      "execution_count": 71,
      "outputs": [
        {
          "output_type": "execute_result",
          "data": {
            "text/plain": [
              "array([8, 6, 5, 5, 3, 8, 9, 7])"
            ]
          },
          "metadata": {},
          "execution_count": 71
        }
      ]
    },
    {
      "cell_type": "code",
      "source": [
        "np.random.randint(1, 10, (3,4)) # # Genera una matriz de 3 filas y 4 columnas con valores entre 1 y 10 "
      ],
      "metadata": {
        "colab": {
          "base_uri": "https://localhost:8080/"
        },
        "id": "b8u1zHciRtiQ",
        "outputId": "df06a860-74ee-49b1-ff04-32bfac84f57b"
      },
      "execution_count": 66,
      "outputs": [
        {
          "output_type": "execute_result",
          "data": {
            "text/plain": [
              "array([[3, 4, 8, 3],\n",
              "       [7, 6, 4, 4],\n",
              "       [5, 3, 1, 5]])"
            ]
          },
          "metadata": {},
          "execution_count": 66
        }
      ]
    },
    {
      "cell_type": "code",
      "source": [
        "np.random.randint(1, 10, (3, 2, 4))"
      ],
      "metadata": {
        "colab": {
          "base_uri": "https://localhost:8080/"
        },
        "id": "seCUkGzRRywm",
        "outputId": "15cb54e9-ab20-4f79-a947-0cbbae879dcc"
      },
      "execution_count": 68,
      "outputs": [
        {
          "output_type": "execute_result",
          "data": {
            "text/plain": [
              "array([[[8, 8, 9, 6],\n",
              "        [6, 4, 3, 7]],\n",
              "\n",
              "       [[8, 3, 3, 4],\n",
              "        [8, 4, 4, 4]],\n",
              "\n",
              "       [[3, 8, 1, 8],\n",
              "        [9, 7, 5, 5]]])"
            ]
          },
          "metadata": {},
          "execution_count": 68
        }
      ]
    },
    {
      "cell_type": "markdown",
      "source": [
        "[Documentación oficial](https://numpy.org/doc/stable/reference/routines.array-creation.html)"
      ],
      "metadata": {
        "id": "31Po5CHPUGGW"
      }
    }
  ]
}