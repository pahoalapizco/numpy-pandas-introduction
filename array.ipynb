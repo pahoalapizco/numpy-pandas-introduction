{
 "cells": [
  {
   "attachments": {},
   "cell_type": "markdown",
   "metadata": {},
   "source": [
    "# El array de Numpy\n",
    "Esta estructua es el objeto principal de la librería Numpy, es en ella en la que surge la magia de tan poderosa herramienta."
   ]
  },
  {
   "attachments": {},
   "cell_type": "markdown",
   "metadata": {},
   "source": [
    "Empezamos importando la libreria"
   ]
  },
  {
   "cell_type": "code",
   "execution_count": 1,
   "metadata": {},
   "outputs": [],
   "source": [
    "import numpy as np"
   ]
  },
  {
   "attachments": {},
   "cell_type": "markdown",
   "metadata": {},
   "source": [
    "Creamos una lista normal de python"
   ]
  },
  {
   "cell_type": "code",
   "execution_count": 2,
   "metadata": {},
   "outputs": [
    {
     "data": {
      "text/plain": [
       "[1, 2, 3, 4, 5, 6, 7, 8, 9]"
      ]
     },
     "execution_count": 2,
     "metadata": {},
     "output_type": "execute_result"
    }
   ],
   "source": [
    "array = [1, 2, 3, 4, 5, 6, 7, 8, 9]\n",
    "array"
   ]
  },
  {
   "attachments": {},
   "cell_type": "markdown",
   "metadata": {},
   "source": [
    "La lista \"array\" la transformamos a un Array de numpy"
   ]
  },
  {
   "cell_type": "code",
   "execution_count": 3,
   "metadata": {},
   "outputs": [],
   "source": [
    "array = np.array(array)"
   ]
  },
  {
   "attachments": {},
   "cell_type": "markdown",
   "metadata": {},
   "source": [
    "Verificamos el tipo de dato de la variable \"array\""
   ]
  },
  {
   "cell_type": "code",
   "execution_count": 4,
   "metadata": {},
   "outputs": [
    {
     "data": {
      "text/plain": [
       "numpy.ndarray"
      ]
     },
     "execution_count": 4,
     "metadata": {},
     "output_type": "execute_result"
    }
   ],
   "source": [
    "type(array)"
   ]
  },
  {
   "attachments": {},
   "cell_type": "markdown",
   "metadata": {},
   "source": [
    "## Accediendo a los datos de un array\n",
    "Para acceder u obtener datos que se encuentren en un array lo hacemos mediante indices.\n",
    "<br>\n",
    "_Recordemos que en programación los indices empiezan a partir de la posición 0_"
   ]
  },
  {
   "cell_type": "code",
   "execution_count": 6,
   "metadata": {},
   "outputs": [
    {
     "data": {
      "text/plain": [
       "array([1, 2, 3, 4, 5, 6, 7, 8, 9])"
      ]
     },
     "execution_count": 6,
     "metadata": {},
     "output_type": "execute_result"
    }
   ],
   "source": [
    "# Del array anterior\n",
    "array\n"
   ]
  },
  {
   "cell_type": "code",
   "execution_count": 7,
   "metadata": {},
   "outputs": [
    {
     "data": {
      "text/plain": [
       "5"
      ]
     },
     "execution_count": 7,
     "metadata": {},
     "output_type": "execute_result"
    }
   ],
   "source": [
    "# Accederemos al valor 5 que se encuentra en la posición 4\n",
    "array[4]"
   ]
  },
  {
   "cell_type": "code",
   "execution_count": 14,
   "metadata": {},
   "outputs": [
    {
     "data": {
      "text/plain": [
       "9"
      ]
     },
     "execution_count": 14,
     "metadata": {},
     "output_type": "execute_result"
    }
   ],
   "source": [
    "# Sino conocemos la longitud del array y queremos acceder a su último elemento, lo podemos lograr de la siguiente manera\n",
    "array[-1]"
   ]
  },
  {
   "attachments": {},
   "cell_type": "markdown",
   "metadata": {},
   "source": [
    "Mediante la técnica **Slicing** podemos acceder a 1 o más valores de un <code>array</code>, esto lo podemos lograr mediante los indices, aquí podemos utilizar el indice de inicio e indice final separados por dos puntos `:` algo así: <br>\n",
    "<code>\n",
    "array[indicie_inicio : indice_final]\n",
    "</code>"
   ]
  },
  {
   "cell_type": "code",
   "execution_count": 9,
   "metadata": {},
   "outputs": [
    {
     "data": {
      "text/plain": [
       "array([1, 2, 3, 4])"
      ]
     },
     "execution_count": 9,
     "metadata": {},
     "output_type": "execute_result"
    }
   ],
   "source": [
    "# Los primeros 4 elementos del array\n",
    "array[0:4]"
   ]
  },
  {
   "cell_type": "code",
   "execution_count": 10,
   "metadata": {},
   "outputs": [
    {
     "data": {
      "text/plain": [
       "array([1, 2, 3, 4])"
      ]
     },
     "execution_count": 10,
     "metadata": {},
     "output_type": "execute_result"
    }
   ],
   "source": [
    "# Sino le indicamos el indice de inicio por default toma el 0\n",
    "array[:4]"
   ]
  },
  {
   "attachments": {},
   "cell_type": "markdown",
   "metadata": {},
   "source": [
    "Cabe mencionar que el indice `4` contiene el elemento con valor `5`, sin embargo python lo va a omitir y tomara el anterior, lo toma como:  `indice_final - 1` y nos da como resultado el indice 3, por eso toma hasta el elemento de dicha posición"
   ]
  },
  {
   "cell_type": "code",
   "execution_count": 12,
   "metadata": {},
   "outputs": [
    {
     "data": {
      "text/plain": [
       "array([1, 2, 3, 4, 5, 6, 7, 8])"
      ]
     },
     "execution_count": 12,
     "metadata": {},
     "output_type": "execute_result"
    }
   ],
   "source": [
    "# Omite el último elemento\n",
    "array[:-1]"
   ]
  },
  {
   "attachments": {},
   "cell_type": "markdown",
   "metadata": {},
   "source": [
    "Junto con la técnica de **slicing** podemos aplicar saltos entre el array, y esto lo logramos con un 3er indice separado con dos puntos (`:`) de los dos indices anteriors, el ultimo indice le dice al array el número de saltos que debera hacer.\n",
    "<br>\n",
    "<code>\n",
    "array[indice_inicio : indice_fina : numero_saltos]\n",
    "</code>\n",
    "<br>\n",
    "**NOTA**: Si se omiten los dos primeros indices (`array[::salto]`) empezará desde la posición `0` hasta el final del array"
   ]
  },
  {
   "cell_type": "code",
   "execution_count": 15,
   "metadata": {},
   "outputs": [
    {
     "data": {
      "text/plain": [
       "array([3, 5, 7])"
      ]
     },
     "execution_count": 15,
     "metadata": {},
     "output_type": "execute_result"
    }
   ],
   "source": [
    "# Empezando de la posición 2 hasta posición 7, daremos dos saltos\n",
    "array[2:7:2]"
   ]
  },
  {
   "cell_type": "code",
   "execution_count": 16,
   "metadata": {},
   "outputs": [
    {
     "data": {
      "text/plain": [
       "array([1, 4, 7])"
      ]
     },
     "execution_count": 16,
     "metadata": {},
     "output_type": "execute_result"
    }
   ],
   "source": [
    "# Empezando desde la posición 0 a la última posición, daremos 3 saltos\n",
    "array[::3]"
   ]
  },
  {
   "attachments": {},
   "cell_type": "markdown",
   "metadata": {},
   "source": [
    "## Matrices\n",
    "Una matriz es un array de 2 dimenciones, o lo ques lo mismo un array con n arrays en su interior. En este caso cada elemento del array principal es un array indemendiente. \n",
    "<br>\n",
    "Al igual que en el ejemplo anterior, las matrices las creamos como listas y le aplicamos la funcionalidad array de la libreria numpy"
   ]
  },
  {
   "cell_type": "code",
   "execution_count": 17,
   "metadata": {},
   "outputs": [
    {
     "data": {
      "text/plain": [
       "[[1, 2, 3], [4, 5, 6], [7, 8, 9]]"
      ]
     },
     "execution_count": 17,
     "metadata": {},
     "output_type": "execute_result"
    }
   ],
   "source": [
    "matriz = [ [1, 2, 3], [4, 5, 6], [7, 8, 9] ]\n",
    "matriz"
   ]
  },
  {
   "attachments": {},
   "cell_type": "markdown",
   "metadata": {},
   "source": [
    "Transformamos la matriz que acabamos de crear en un objeto array de numpy"
   ]
  },
  {
   "cell_type": "code",
   "execution_count": 18,
   "metadata": {},
   "outputs": [
    {
     "data": {
      "text/plain": [
       "array([[1, 2, 3],\n",
       "       [4, 5, 6],\n",
       "       [7, 8, 9]])"
      ]
     },
     "execution_count": 18,
     "metadata": {},
     "output_type": "execute_result"
    }
   ],
   "source": [
    "matriz = np.array(matriz)\n",
    "matriz"
   ]
  },
  {
   "attachments": {},
   "cell_type": "markdown",
   "metadata": {},
   "source": [
    "En la matriz que creamos, podemos observar que es un arreglo (array) con 3 elementos, cada elemento es un array en si mismo. "
   ]
  },
  {
   "attachments": {},
   "cell_type": "markdown",
   "metadata": {},
   "source": [
    "### Acceso a datos de una matriz\n",
    "Al igual que en un array normal, o bien de una sola dimensión, en las matrices también podemos acceder a sus elementos mediante sus indices, en este caso la diferencia radica en que los elementos que obtendremos del array principal son otros arrays."
   ]
  },
  {
   "cell_type": "code",
   "execution_count": 19,
   "metadata": {},
   "outputs": [
    {
     "data": {
      "text/plain": [
       "array([1, 2, 3])"
      ]
     },
     "execution_count": 19,
     "metadata": {},
     "output_type": "execute_result"
    }
   ],
   "source": [
    "# Accediendo al elemento 0 de la matriz\n",
    "matriz[0]"
   ]
  },
  {
   "attachments": {},
   "cell_type": "markdown",
   "metadata": {},
   "source": [
    "Si bien lo que obtubimos fue un arreglo (`array([1, 2, 3])`), entonces ¿cómo podemos obtener los elementos contenidos en los arrays secundarios?, de igual forma, lo haremos mediante los indices, pero ahora sobre los indices del array secundario.\n",
    "<br>\n",
    "Para hacer mas sencilla la explicacion de como funcionan los indices en una matriz, lo podemos ver como una tabla, siendo los elementos del array principal las filas, y los elementos contenidos en los arrays secundarios las columnas, vemoslo en la siguiente tabla:"
   ]
  },
  {
   "attachments": {},
   "cell_type": "markdown",
   "metadata": {},
   "source": [
    "             Columnas (Elementos de cada array secundario)  \n",
    "           | ------ |    \n",
    "|indice| 0 | 1 | 2 |\n",
    "|------|---|---|---|\n",
    "| **0**| 1 | 2 | 3 |\n",
    "| **1**| 4 | 5 | 6 |\n",
    "| **2**| 7 | 8 | 9 |"
   ]
  },
  {
   "attachments": {},
   "cell_type": "markdown",
   "metadata": {},
   "source": [
    "Entonces si queremos obtener el elemento con valor `6`, necesitamos acceder a la fila `1` en la columna `2` (ambos son indices de a matriz), si bien al colocar `matriz[indice]` nos regresa un array (fila) podemos entenderlo como `matriz[indice_fila]`, enontces ¿cómo accedo al valor de una columna?, con el indice de la columna despues del indice de la fila separado por una coma `,` de la siguiente manera: `matriz[indice_fila, indice_columna]`. Veamoslo en practica"
   ]
  },
  {
   "cell_type": "code",
   "execution_count": 21,
   "metadata": {},
   "outputs": [
    {
     "data": {
      "text/plain": [
       "6"
      ]
     },
     "execution_count": 21,
     "metadata": {},
     "output_type": "execute_result"
    }
   ],
   "source": [
    "# Accederemos al elemento de la fila 1 en la columna 2\n",
    "matriz[1,2]"
   ]
  }
 ],
 "metadata": {
  "kernelspec": {
   "display_name": "curso-pandas-numpy",
   "language": "python",
   "name": "python3"
  },
  "language_info": {
   "codemirror_mode": {
    "name": "ipython",
    "version": 3
   },
   "file_extension": ".py",
   "mimetype": "text/x-python",
   "name": "python",
   "nbconvert_exporter": "python",
   "pygments_lexer": "ipython3",
   "version": "3.9.13"
  },
  "orig_nbformat": 4,
  "vscode": {
   "interpreter": {
    "hash": "923d123a97265e9e2ca1dcf284ca5cf1da270a20a0be0ddb7a1144b186d67de1"
   }
  }
 },
 "nbformat": 4,
 "nbformat_minor": 2
}
