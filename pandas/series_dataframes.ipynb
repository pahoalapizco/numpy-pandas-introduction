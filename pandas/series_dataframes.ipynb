{
 "cells": [
  {
   "cell_type": "code",
   "execution_count": 2,
   "metadata": {},
   "outputs": [],
   "source": [
    "import pandas as pd"
   ]
  },
  {
   "attachments": {},
   "cell_type": "markdown",
   "metadata": {},
   "source": [
    "# Series y DataFrames\n",
    "Objetos principales de la librerian `Pandas`, son escenciales para una mejor exploración y análisis de datos."
   ]
  },
  {
   "attachments": {},
   "cell_type": "markdown",
   "metadata": {},
   "source": [
    "## Series"
   ]
  },
  {
   "attachments": {},
   "cell_type": "markdown",
   "metadata": {},
   "source": [
    "Son similares a los arrays de una dimensión o vectores en Numpy.\n",
    "<br>\n",
    "Caacterísticas:\n",
    "- Arreglo unidimensional indexado\n",
    "- Búsqueda por índice\n",
    "- Soporte de operaciones aritméticas\n",
    "- Manejo de distintos tipos de datos\n",
    "<br>\n",
    "\n",
    "Al igual que cualquier array o lista sus indices comienzan en 0 hasta la cantidad de elementos totales menos uno, sin embargo con las Series de Pandas podemos asignar manualmente los indices, esa es una diferencia con los arrays convencionales."
   ]
  },
  {
   "attachments": {},
   "cell_type": "markdown",
   "metadata": {},
   "source": [
    "Creación de una `Serie` sin asignar indices."
   ]
  },
  {
   "cell_type": "code",
   "execution_count": 6,
   "metadata": {},
   "outputs": [
    {
     "data": {
      "text/plain": [
       "0      Harry Potter y el prosionero de azkaban\n",
       "1            Harry Potter y la orden del fenix\n",
       "2      Harry Potter y el misterio del principe\n",
       "3    Harry Potter y las reliquias de la muerte\n",
       "dtype: object"
      ]
     },
     "execution_count": 6,
     "metadata": {},
     "output_type": "execute_result"
    }
   ],
   "source": [
    "hp_serie = pd.Series(['Harry Potter y el prosionero de azkaban', 'Harry Potter y la orden del fenix',\n",
    "                     'Harry Potter y el misterio del principe', 'Harry Potter y las reliquias de la muerte'])\n",
    "hp_serie\n"
   ]
  },
  {
   "attachments": {},
   "cell_type": "markdown",
   "metadata": {},
   "source": [
    "Por default los indices empiezan en 0 hasta el total de elementos menos uno."
   ]
  },
  {
   "attachments": {},
   "cell_type": "markdown",
   "metadata": {},
   "source": [
    "Creando una `Serie` con iíndices preestablecidos"
   ]
  },
  {
   "cell_type": "code",
   "execution_count": 8,
   "metadata": {},
   "outputs": [
    {
     "data": {
      "text/plain": [
       "3      Harry Potter y el prosionero de azkaban\n",
       "5            Harry Potter y la orden del fenix\n",
       "6      Harry Potter y el misterio del principe\n",
       "7    Harry Potter y las reliquias de la muerte\n",
       "dtype: object"
      ]
     },
     "execution_count": 8,
     "metadata": {},
     "output_type": "execute_result"
    }
   ],
   "source": [
    "hp_serie = pd.Series(['Harry Potter y el prosionero de azkaban', 'Harry Potter y la orden del fenix',\n",
    "                     'Harry Potter y el misterio del principe', 'Harry Potter y las reliquias de la muerte'],\n",
    "                     index=[3, 5, 6, 7])\n",
    "hp_serie"
   ]
  },
  {
   "attachments": {},
   "cell_type": "markdown",
   "metadata": {},
   "source": [
    "En el ejemplo anterior el índice corresponde al número de libro, y el orden de los indices en el array `index` es el correspondiente al de los datos del primer parametro."
   ]
  },
  {
   "attachments": {},
   "cell_type": "markdown",
   "metadata": {},
   "source": [
    "Otra forma de crear series es por medio de diccionarios."
   ]
  },
  {
   "cell_type": "code",
   "execution_count": 31,
   "metadata": {},
   "outputs": [
    {
     "data": {
      "text/plain": [
       "3      Harry Potter y el prosionero de azkaban\n",
       "5            Harry Potter y la orden del fenix\n",
       "6      Harry Potter y el misterio del principe\n",
       "7    Harry Potter y las reliquias de la muerte\n",
       "dtype: object"
      ]
     },
     "execution_count": 31,
     "metadata": {},
     "output_type": "execute_result"
    }
   ],
   "source": [
    "hp_dict = {\n",
    "    3: 'Harry Potter y el prosionero de azkaban',\n",
    "    5: 'Harry Potter y la orden del fenix',\n",
    "    6: 'Harry Potter y el misterio del principe',\n",
    "    7: 'Harry Potter y las reliquias de la muerte'\n",
    "}\n",
    "hp_serie = pd.Series(hp_dict)\n",
    "hp_serie"
   ]
  },
  {
   "attachments": {},
   "cell_type": "markdown",
   "metadata": {},
   "source": [
    "Obtenemos elementos de la serie por índice"
   ]
  },
  {
   "cell_type": "code",
   "execution_count": 10,
   "metadata": {},
   "outputs": [
    {
     "data": {
      "text/plain": [
       "'Harry Potter y la orden del fenix'"
      ]
     },
     "execution_count": 10,
     "metadata": {},
     "output_type": "execute_result"
    }
   ],
   "source": [
    "hp_serie[5]"
   ]
  },
  {
   "attachments": {},
   "cell_type": "markdown",
   "metadata": {},
   "source": [
    "Obtenemos elementos de la serie con slicing"
   ]
  },
  {
   "cell_type": "code",
   "execution_count": 18,
   "metadata": {},
   "outputs": [
    {
     "data": {
      "text/plain": [
       "3      Harry Potter y el prosionero de azkaban\n",
       "5            Harry Potter y la orden del fenix\n",
       "6      Harry Potter y el misterio del principe\n",
       "7    Harry Potter y las reliquias de la muerte\n",
       "dtype: object"
      ]
     },
     "execution_count": 18,
     "metadata": {},
     "output_type": "execute_result"
    }
   ],
   "source": [
    "hp_serie[0:7]"
   ]
  },
  {
   "cell_type": "code",
   "execution_count": 19,
   "metadata": {},
   "outputs": [
    {
     "data": {
      "text/plain": [
       "Int64Index([3, 5, 6, 7], dtype='int64')"
      ]
     },
     "execution_count": 19,
     "metadata": {},
     "output_type": "execute_result"
    }
   ],
   "source": [
    "hp_serie.index"
   ]
  },
  {
   "cell_type": "code",
   "execution_count": 20,
   "metadata": {},
   "outputs": [
    {
     "data": {
      "text/plain": [
       "3      Harry Potter y el prosionero de azkaban\n",
       "5            Harry Potter y la orden del fenix\n",
       "6      Harry Potter y el misterio del principe\n",
       "7    Harry Potter y las reliquias de la muerte\n",
       "dtype: object"
      ]
     },
     "execution_count": 20,
     "metadata": {},
     "output_type": "execute_result"
    }
   ],
   "source": [
    "hp_serie.T # Al ser una estructura unidimencional la Transpuesta es el vector/serie en si mismo."
   ]
  },
  {
   "attachments": {},
   "cell_type": "markdown",
   "metadata": {},
   "source": [
    "## DataFrames"
   ]
  },
  {
   "attachments": {},
   "cell_type": "markdown",
   "metadata": {},
   "source": [
    "Es la estructura principal de `Pandas`, son similares a las estructuras matriciales en Numpy, encontramos los datos en filas y columnas.\n",
    "<br>\n",
    "Características:\n",
    "- Arreglo de dos dimensiones\n",
    "- Búsqueda por indices de filas y columnas, en el caso de las columnas su nombre corresponde al indice.\n",
    "- Obtención de datos con slicing\n",
    "- Soporta operaciones aritméticas\n",
    "- Menojo de varios tipos de datos\n",
    "- Su tamaño es variable\n",
    "<br>\n",
    "Igual que con las `Series` a los `DataFrames` podemos indicarle manualmente los ídices de cada elemento, sino lo hacemos por default comienza en 0 y termina en el total de los elementos menos uno."
   ]
  },
  {
   "attachments": {},
   "cell_type": "markdown",
   "metadata": {},
   "source": [
    "Creando un `DataFrame` sin indices preestablecidos."
   ]
  },
  {
   "cell_type": "code",
   "execution_count": 32,
   "metadata": {},
   "outputs": [
    {
     "data": {
      "text/html": [
       "<div>\n",
       "<style scoped>\n",
       "    .dataframe tbody tr th:only-of-type {\n",
       "        vertical-align: middle;\n",
       "    }\n",
       "\n",
       "    .dataframe tbody tr th {\n",
       "        vertical-align: top;\n",
       "    }\n",
       "\n",
       "    .dataframe thead th {\n",
       "        text-align: right;\n",
       "    }\n",
       "</style>\n",
       "<table border=\"1\" class=\"dataframe\">\n",
       "  <thead>\n",
       "    <tr style=\"text-align: right;\">\n",
       "      <th></th>\n",
       "      <th>0</th>\n",
       "    </tr>\n",
       "  </thead>\n",
       "  <tbody>\n",
       "    <tr>\n",
       "      <th>0</th>\n",
       "      <td>Harry Potter y el prosionero de azkaban</td>\n",
       "    </tr>\n",
       "    <tr>\n",
       "      <th>1</th>\n",
       "      <td>Harry Potter y la orden del fenix</td>\n",
       "    </tr>\n",
       "    <tr>\n",
       "      <th>2</th>\n",
       "      <td>Harry Potter y el misterio del principe</td>\n",
       "    </tr>\n",
       "    <tr>\n",
       "      <th>3</th>\n",
       "      <td>Harry Potter y las reliquias de la muerte</td>\n",
       "    </tr>\n",
       "  </tbody>\n",
       "</table>\n",
       "</div>"
      ],
      "text/plain": [
       "                                           0\n",
       "0    Harry Potter y el prosionero de azkaban\n",
       "1          Harry Potter y la orden del fenix\n",
       "2    Harry Potter y el misterio del principe\n",
       "3  Harry Potter y las reliquias de la muerte"
      ]
     },
     "execution_count": 32,
     "metadata": {},
     "output_type": "execute_result"
    }
   ],
   "source": [
    "hp_df = pd.DataFrame(['Harry Potter y el prosionero de azkaban', 'Harry Potter y la orden del fenix',\n",
    "                     'Harry Potter y el misterio del principe', 'Harry Potter y las reliquias de la muerte'])\n",
    "hp_df"
   ]
  },
  {
   "attachments": {},
   "cell_type": "markdown",
   "metadata": {},
   "source": [
    "Por default el nombre de la columna lo deja con el ídice `0`, para asignarle un nombre utilizamos el parámetro `columns` que recibe un arreglo con el nombre de las columnas."
   ]
  },
  {
   "cell_type": "code",
   "execution_count": 44,
   "metadata": {},
   "outputs": [
    {
     "data": {
      "text/html": [
       "<div>\n",
       "<style scoped>\n",
       "    .dataframe tbody tr th:only-of-type {\n",
       "        vertical-align: middle;\n",
       "    }\n",
       "\n",
       "    .dataframe tbody tr th {\n",
       "        vertical-align: top;\n",
       "    }\n",
       "\n",
       "    .dataframe thead th {\n",
       "        text-align: right;\n",
       "    }\n",
       "</style>\n",
       "<table border=\"1\" class=\"dataframe\">\n",
       "  <thead>\n",
       "    <tr style=\"text-align: right;\">\n",
       "      <th></th>\n",
       "      <th>libro</th>\n",
       "    </tr>\n",
       "  </thead>\n",
       "  <tbody>\n",
       "    <tr>\n",
       "      <th>0</th>\n",
       "      <td>Harry Potter y el prosionero de azkaban</td>\n",
       "    </tr>\n",
       "    <tr>\n",
       "      <th>1</th>\n",
       "      <td>Harry Potter y la orden del fenix</td>\n",
       "    </tr>\n",
       "    <tr>\n",
       "      <th>2</th>\n",
       "      <td>Harry Potter y el misterio del principe</td>\n",
       "    </tr>\n",
       "    <tr>\n",
       "      <th>3</th>\n",
       "      <td>Harry Potter y las reliquias de la muerte</td>\n",
       "    </tr>\n",
       "  </tbody>\n",
       "</table>\n",
       "</div>"
      ],
      "text/plain": [
       "                                       libro\n",
       "0    Harry Potter y el prosionero de azkaban\n",
       "1          Harry Potter y la orden del fenix\n",
       "2    Harry Potter y el misterio del principe\n",
       "3  Harry Potter y las reliquias de la muerte"
      ]
     },
     "execution_count": 44,
     "metadata": {},
     "output_type": "execute_result"
    }
   ],
   "source": [
    "hp_df = pd.DataFrame(['Harry Potter y el prosionero de azkaban', 'Harry Potter y la orden del fenix',\n",
    "                     'Harry Potter y el misterio del principe', 'Harry Potter y las reliquias de la muerte'], \n",
    "                     columns=['libro'])\n",
    "hp_df"
   ]
  },
  {
   "attachments": {},
   "cell_type": "markdown",
   "metadata": {},
   "source": [
    "Creando un `DataFrame` con indices preestablecidos."
   ]
  },
  {
   "cell_type": "code",
   "execution_count": 45,
   "metadata": {},
   "outputs": [
    {
     "data": {
      "text/html": [
       "<div>\n",
       "<style scoped>\n",
       "    .dataframe tbody tr th:only-of-type {\n",
       "        vertical-align: middle;\n",
       "    }\n",
       "\n",
       "    .dataframe tbody tr th {\n",
       "        vertical-align: top;\n",
       "    }\n",
       "\n",
       "    .dataframe thead th {\n",
       "        text-align: right;\n",
       "    }\n",
       "</style>\n",
       "<table border=\"1\" class=\"dataframe\">\n",
       "  <thead>\n",
       "    <tr style=\"text-align: right;\">\n",
       "      <th></th>\n",
       "      <th>libro</th>\n",
       "    </tr>\n",
       "  </thead>\n",
       "  <tbody>\n",
       "    <tr>\n",
       "      <th>3</th>\n",
       "      <td>Harry Potter y el prosionero de azkaban</td>\n",
       "    </tr>\n",
       "    <tr>\n",
       "      <th>5</th>\n",
       "      <td>Harry Potter y la orden del fenix</td>\n",
       "    </tr>\n",
       "    <tr>\n",
       "      <th>6</th>\n",
       "      <td>Harry Potter y el misterio del principe</td>\n",
       "    </tr>\n",
       "    <tr>\n",
       "      <th>7</th>\n",
       "      <td>Harry Potter y las reliquias de la muerte</td>\n",
       "    </tr>\n",
       "  </tbody>\n",
       "</table>\n",
       "</div>"
      ],
      "text/plain": [
       "                                       libro\n",
       "3    Harry Potter y el prosionero de azkaban\n",
       "5          Harry Potter y la orden del fenix\n",
       "6    Harry Potter y el misterio del principe\n",
       "7  Harry Potter y las reliquias de la muerte"
      ]
     },
     "execution_count": 45,
     "metadata": {},
     "output_type": "execute_result"
    }
   ],
   "source": [
    "hp_df = pd.DataFrame(['Harry Potter y el prosionero de azkaban', 'Harry Potter y la orden del fenix',\n",
    "                     'Harry Potter y el misterio del principe', 'Harry Potter y las reliquias de la muerte'],\n",
    "                     index=[3, 5, 6, 7],\n",
    "                     columns=['libro'])\n",
    "hp_df"
   ]
  },
  {
   "attachments": {},
   "cell_type": "markdown",
   "metadata": {},
   "source": [
    "También podemos crearlos a partir de un diccionario de Python."
   ]
  },
  {
   "cell_type": "code",
   "execution_count": 46,
   "metadata": {},
   "outputs": [
    {
     "data": {
      "text/html": [
       "<div>\n",
       "<style scoped>\n",
       "    .dataframe tbody tr th:only-of-type {\n",
       "        vertical-align: middle;\n",
       "    }\n",
       "\n",
       "    .dataframe tbody tr th {\n",
       "        vertical-align: top;\n",
       "    }\n",
       "\n",
       "    .dataframe thead th {\n",
       "        text-align: right;\n",
       "    }\n",
       "</style>\n",
       "<table border=\"1\" class=\"dataframe\">\n",
       "  <thead>\n",
       "    <tr style=\"text-align: right;\">\n",
       "      <th></th>\n",
       "      <th>book</th>\n",
       "      <th>pages</th>\n",
       "      <th>year</th>\n",
       "    </tr>\n",
       "  </thead>\n",
       "  <tbody>\n",
       "    <tr>\n",
       "      <th>3</th>\n",
       "      <td>Harry Potter y el prosionero de azkaban</td>\n",
       "      <td>360</td>\n",
       "      <td>1999</td>\n",
       "    </tr>\n",
       "    <tr>\n",
       "      <th>5</th>\n",
       "      <td>Harry Potter y la orden del fenix</td>\n",
       "      <td>896</td>\n",
       "      <td>2003</td>\n",
       "    </tr>\n",
       "    <tr>\n",
       "      <th>6</th>\n",
       "      <td>Harry Potter y el misterio del principe</td>\n",
       "      <td>608</td>\n",
       "      <td>2005</td>\n",
       "    </tr>\n",
       "    <tr>\n",
       "      <th>7</th>\n",
       "      <td>Harry Potter y las reliquias de la muerte</td>\n",
       "      <td>640</td>\n",
       "      <td>2007</td>\n",
       "    </tr>\n",
       "  </tbody>\n",
       "</table>\n",
       "</div>"
      ],
      "text/plain": [
       "                                        book  pages  year\n",
       "3    Harry Potter y el prosionero de azkaban    360  1999\n",
       "5          Harry Potter y la orden del fenix    896  2003\n",
       "6    Harry Potter y el misterio del principe    608  2005\n",
       "7  Harry Potter y las reliquias de la muerte    640  2007"
      ]
     },
     "execution_count": 46,
     "metadata": {},
     "output_type": "execute_result"
    }
   ],
   "source": [
    "hp_dict = {\n",
    "    'book': ['Harry Potter y el prosionero de azkaban', 'Harry Potter y la orden del fenix','Harry Potter y el misterio del principe', 'Harry Potter y las reliquias de la muerte'],\n",
    "    'pages': [360, 896, 608, 640],\n",
    "    'year': [1999, 2003, 2005, 2007]\n",
    "}\n",
    "hp_df = pd.DataFrame(hp_dict, index=[3, 5, 6, 7])\n",
    "hp_df"
   ]
  },
  {
   "attachments": {},
   "cell_type": "markdown",
   "metadata": {},
   "source": [
    "Obteniendo datos por indices de columnas."
   ]
  },
  {
   "cell_type": "code",
   "execution_count": 47,
   "metadata": {},
   "outputs": [
    {
     "data": {
      "text/plain": [
       "3    360\n",
       "5    896\n",
       "6    608\n",
       "7    640\n",
       "Name: pages, dtype: int64"
      ]
     },
     "execution_count": 47,
     "metadata": {},
     "output_type": "execute_result"
    }
   ],
   "source": [
    "hp_df['pages']"
   ]
  },
  {
   "cell_type": "code",
   "execution_count": 50,
   "metadata": {},
   "outputs": [
    {
     "data": {
      "text/html": [
       "<div>\n",
       "<style scoped>\n",
       "    .dataframe tbody tr th:only-of-type {\n",
       "        vertical-align: middle;\n",
       "    }\n",
       "\n",
       "    .dataframe tbody tr th {\n",
       "        vertical-align: top;\n",
       "    }\n",
       "\n",
       "    .dataframe thead th {\n",
       "        text-align: right;\n",
       "    }\n",
       "</style>\n",
       "<table border=\"1\" class=\"dataframe\">\n",
       "  <thead>\n",
       "    <tr style=\"text-align: right;\">\n",
       "      <th></th>\n",
       "      <th>pages</th>\n",
       "      <th>book</th>\n",
       "    </tr>\n",
       "  </thead>\n",
       "  <tbody>\n",
       "    <tr>\n",
       "      <th>3</th>\n",
       "      <td>360</td>\n",
       "      <td>Harry Potter y el prosionero de azkaban</td>\n",
       "    </tr>\n",
       "    <tr>\n",
       "      <th>5</th>\n",
       "      <td>896</td>\n",
       "      <td>Harry Potter y la orden del fenix</td>\n",
       "    </tr>\n",
       "    <tr>\n",
       "      <th>6</th>\n",
       "      <td>608</td>\n",
       "      <td>Harry Potter y el misterio del principe</td>\n",
       "    </tr>\n",
       "    <tr>\n",
       "      <th>7</th>\n",
       "      <td>640</td>\n",
       "      <td>Harry Potter y las reliquias de la muerte</td>\n",
       "    </tr>\n",
       "  </tbody>\n",
       "</table>\n",
       "</div>"
      ],
      "text/plain": [
       "   pages                                       book\n",
       "3    360    Harry Potter y el prosionero de azkaban\n",
       "5    896          Harry Potter y la orden del fenix\n",
       "6    608    Harry Potter y el misterio del principe\n",
       "7    640  Harry Potter y las reliquias de la muerte"
      ]
     },
     "execution_count": 50,
     "metadata": {},
     "output_type": "execute_result"
    }
   ],
   "source": [
    "hp_df[['pages', 'book']]"
   ]
  },
  {
   "cell_type": "code",
   "execution_count": 55,
   "metadata": {},
   "outputs": [
    {
     "data": {
      "text/plain": [
       "Index(['book', 'pages', 'year'], dtype='object')"
      ]
     },
     "execution_count": 55,
     "metadata": {},
     "output_type": "execute_result"
    }
   ],
   "source": [
    "hp_df.columns"
   ]
  },
  {
   "cell_type": "code",
   "execution_count": 56,
   "metadata": {},
   "outputs": [
    {
     "data": {
      "text/plain": [
       "array([['Harry Potter y el prosionero de azkaban', 360, 1999],\n",
       "       ['Harry Potter y la orden del fenix', 896, 2003],\n",
       "       ['Harry Potter y el misterio del principe', 608, 2005],\n",
       "       ['Harry Potter y las reliquias de la muerte', 640, 2007]],\n",
       "      dtype=object)"
      ]
     },
     "execution_count": 56,
     "metadata": {},
     "output_type": "execute_result"
    }
   ],
   "source": [
    "hp_df.values"
   ]
  },
  {
   "cell_type": "code",
   "execution_count": 57,
   "metadata": {},
   "outputs": [
    {
     "data": {
      "text/plain": [
       "[Int64Index([3, 5, 6, 7], dtype='int64'),\n",
       " Index(['book', 'pages', 'year'], dtype='object')]"
      ]
     },
     "execution_count": 57,
     "metadata": {},
     "output_type": "execute_result"
    }
   ],
   "source": [
    "hp_df.axes"
   ]
  },
  {
   "attachments": {},
   "cell_type": "markdown",
   "metadata": {},
   "source": [
    "[Documentación de Series](https://pandas.pydata.org/docs/reference/series.html)\n",
    "<br>\n",
    "[Documentación de DataFrames](https://pandas.pydata.org/docs/reference/frame.html)"
   ]
  }
 ],
 "metadata": {
  "kernelspec": {
   "display_name": "curso-pandas-numpy",
   "language": "python",
   "name": "python3"
  },
  "language_info": {
   "codemirror_mode": {
    "name": "ipython",
    "version": 3
   },
   "file_extension": ".py",
   "mimetype": "text/x-python",
   "name": "python",
   "nbconvert_exporter": "python",
   "pygments_lexer": "ipython3",
   "version": "3.9.13"
  },
  "orig_nbformat": 4
 },
 "nbformat": 4,
 "nbformat_minor": 2
}
