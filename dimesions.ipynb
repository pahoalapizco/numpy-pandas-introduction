{
 "cells": [
  {
   "attachments": {},
   "cell_type": "markdown",
   "metadata": {},
   "source": [
    "# Dimensiones\n",
    "La librería Numpy es bastante poderosa con el manejo de datos en formato (estructura) de array, nos permite trabajar con datos en distintas dimensiones."
   ]
  },
  {
   "cell_type": "code",
   "execution_count": 1,
   "metadata": {},
   "outputs": [],
   "source": [
    "import numpy as np"
   ]
  },
  {
   "attachments": {},
   "cell_type": "markdown",
   "metadata": {},
   "source": [
    "## Scalar\n",
    "Es de dimensión `0`, no esta dentro de una estructura, es un dato en si mismo."
   ]
  },
  {
   "cell_type": "code",
   "execution_count": 5,
   "metadata": {},
   "outputs": [
    {
     "name": "stdout",
     "output_type": "stream",
     "text": [
      " dimensión: 0, valor: 31\n"
     ]
    }
   ],
   "source": [
    "scalar = np.array(31)\n",
    "print(f' dimensión: {scalar.ndim}, valor: {scalar}')"
   ]
  },
  {
   "attachments": {},
   "cell_type": "markdown",
   "metadata": {},
   "source": [
    "La propiedad `ndim` de un array nos regresa el número de dimensiones."
   ]
  },
  {
   "attachments": {},
   "cell_type": "markdown",
   "metadata": {},
   "source": [
    "## Vector\n",
    "Es de dimensión `1`, en Python lo conocemos como `lista` y se puede representar de la siguiente manera:\n",
    "<br>\n",
    "| 0 | 1 | 2 | 3 | 4 |\n",
    "|---|---|---|---|---|"
   ]
  },
  {
   "cell_type": "code",
   "execution_count": 7,
   "metadata": {},
   "outputs": [
    {
     "name": "stdout",
     "output_type": "stream",
     "text": [
      "dimesion: 1, valor: [1 2 3 4]\n"
     ]
    }
   ],
   "source": [
    "lista_vector = [1, 2, 3, 4]\n",
    "vector = np.array(lista_vector)\n",
    "print(f'dimesion: {vector.ndim}, valor: {vector}')"
   ]
  },
  {
   "attachments": {},
   "cell_type": "markdown",
   "metadata": {},
   "source": [
    "## Matriz\n",
    "Es de dimesión `2`, lo podemos representar como una tabla con filas y columnas, donde las filas son los datos/ejemplos y las columnas sus características (como una hoja de calculo de Excel).\n",
    "<br>\n",
    "Lo podemos ver de la siguiente manera:\n",
    "<br>\n",
    "| Color | País | Edad |\n",
    "|-------|------|------|\n",
    "| Rojo | México | 31 |\n",
    "| Verde | Canada | 20 |"
   ]
  },
  {
   "cell_type": "code",
   "execution_count": 10,
   "metadata": {},
   "outputs": [
    {
     "name": "stdout",
     "output_type": "stream",
     "text": [
      "dimesión: 2\n",
      "valor: [[1 2 3]\n",
      " [4 5 6]]\n"
     ]
    }
   ],
   "source": [
    "lista_matriz = [[1,2,3], [4,5,6]]\n",
    "matriz = np.array(lista_matriz)\n",
    "print(f'dimesión: {matriz.ndim}') \n",
    "print(f'valor: {matriz}')"
   ]
  },
  {
   "attachments": {},
   "cell_type": "markdown",
   "metadata": {},
   "source": [
    "## Tensor\n",
    "Es de dimensión `n`, usualmente se manejan en series de tiempo (3 dimesiones), donde se tiene datos/ejemplos, sus características y su comportamiento a travez del tiempo (esto en almacences de datos se le conoce como cubos de datos)."
   ]
  },
  {
   "cell_type": "code",
   "execution_count": 15,
   "metadata": {},
   "outputs": [
    {
     "name": "stdout",
     "output_type": "stream",
     "text": [
      "dimensión: 3\n",
      "valor: [[[ 1  2  3]\n",
      "  [ 4  5  6]]\n",
      "\n",
      " [[ 7  8  9]\n",
      "  [10 11 12]]]\n"
     ]
    }
   ],
   "source": [
    "lista_tensor = [ [ [1,2,3], [4,5,6] ], [ [7,8,9], [10, 11, 12] ] ]\n",
    "tensor = np.array(lista_tensor)\n",
    "print(f'dimensión: {tensor.ndim}')\n",
    "print(f'valor: {tensor}')"
   ]
  },
  {
   "attachments": {},
   "cell_type": "markdown",
   "metadata": {},
   "source": [
    "## Agregar o eliminar dimensiones"
   ]
  },
  {
   "attachments": {},
   "cell_type": "markdown",
   "metadata": {},
   "source": [
    "Podemos crear un array con una dimensión definida desde el inicio:"
   ]
  },
  {
   "cell_type": "code",
   "execution_count": 16,
   "metadata": {},
   "outputs": [
    {
     "name": "stdout",
     "output_type": "stream",
     "text": [
      "dimensión: 10\n",
      "[[[[[[[[[[1 2 3]]]]]]]]]]\n"
     ]
    }
   ],
   "source": [
    "# Createmos un tensor de dimensián 0\n",
    "tensor_10 = np.array([1,2,3], ndmin=10)\n",
    "print(f'dimensión: {tensor_10.ndim}')\n",
    "print(tensor_10)"
   ]
  },
  {
   "attachments": {},
   "cell_type": "markdown",
   "metadata": {},
   "source": [
    "Si el array fue creado con una cantidad de dimensiones menor a la que necesitamos, podemos expandir sus dimenciones"
   ]
  },
  {
   "cell_type": "code",
   "execution_count": 23,
   "metadata": {},
   "outputs": [
    {
     "name": "stdout",
     "output_type": "stream",
     "text": [
      "1\n",
      "2\n",
      "[[1 2 3]]\n"
     ]
    }
   ],
   "source": [
    "expand = np.array([1,2,3])\n",
    "print(expand.ndim)\n",
    "expand = np.expand_dims(expand, axis=0)\n",
    "# axis=0 -> Nivel de filas\n",
    "# axis=1 -> Nivel de columnas, combierte cada elemento del array en otro array\n",
    "print(expand.ndim)\n",
    "print(expand)"
   ]
  },
  {
   "attachments": {},
   "cell_type": "markdown",
   "metadata": {},
   "source": [
    "Si el array tiene dimensiones que no se utilizan podemos eliminarlas"
   ]
  },
  {
   "cell_type": "code",
   "execution_count": 28,
   "metadata": {},
   "outputs": [
    {
     "name": "stdout",
     "output_type": "stream",
     "text": [
      "dimensión: 10\n",
      "[[[[[[[[[[1 2 3]]]]]]]]]]\n",
      "dimension: 1\n",
      "[1 2 3]\n"
     ]
    }
   ],
   "source": [
    "sqeez = np.array([1,2,3], ndmin=10)\n",
    "print(f'dimensión: {sqeez.ndim}')\n",
    "print(sqeez)\n",
    "sqeez = sqeez.squeeze()\n",
    "print(f'dimension: {sqeez.ndim}')\n",
    "print(sqeez)\n"
   ]
  }
 ],
 "metadata": {
  "kernelspec": {
   "display_name": "curso-pandas-numpy",
   "language": "python",
   "name": "python3"
  },
  "language_info": {
   "codemirror_mode": {
    "name": "ipython",
    "version": 3
   },
   "file_extension": ".py",
   "mimetype": "text/x-python",
   "name": "python",
   "nbconvert_exporter": "python",
   "pygments_lexer": "ipython3",
   "version": "3.9.13"
  },
  "orig_nbformat": 4,
  "vscode": {
   "interpreter": {
    "hash": "923d123a97265e9e2ca1dcf284ca5cf1da270a20a0be0ddb7a1144b186d67de1"
   }
  }
 },
 "nbformat": 4,
 "nbformat_minor": 2
}
